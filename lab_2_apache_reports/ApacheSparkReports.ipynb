{
 "cells": [
  {
   "cell_type": "markdown",
   "id": "a179d5ed",
   "metadata": {},
   "source": [
    "# Big Data L2 - Reports with Apache Spark\n",
    "## Чаплыгин Алексей 6131-010402D"
   ]
  },
  {
   "cell_type": "markdown",
   "id": "cf4548e0",
   "metadata": {},
   "source": [
    "#### Требования к окружению\n",
    "Перед началом требуется выпаолнить следующий код в теминале, так как это позводт читать XML files через pyspark"
   ]
  },
  {
   "cell_type": "markdown",
   "id": "63f7902e",
   "metadata": {},
   "source": [
    "```pyspark --packages com.databricks:spark-xml_2.12:0.13.0```"
   ]
  },
  {
   "cell_type": "code",
   "execution_count": 1,
   "id": "6e2e67ec",
   "metadata": {},
   "outputs": [],
   "source": [
    "from datetime import datetime\n",
    "from pyspark.sql.functions import col\n",
    "from pyspark.sql.types import StructType, StructField, StringType, DateType"
   ]
  },
  {
   "cell_type": "markdown",
   "id": "ef2ec4ff",
   "metadata": {},
   "source": [
    "# SparkSession initialization"
   ]
  },
  {
   "cell_type": "code",
   "execution_count": 2,
   "id": "7674a11b",
   "metadata": {},
   "outputs": [
    {
     "name": "stderr",
     "output_type": "stream",
     "text": [
      "/usr/local/lib/python3.6/dist-packages/pyspark/context.py:238: FutureWarning: Python 3.6 support is deprecated in Spark 3.2.\n",
      "  FutureWarning\n"
     ]
    }
   ],
   "source": [
    "from pyspark.sql import SparkSession\n",
    "import os\n",
    "\n",
    "os.environ['PYSPARK_SUBMIT_ARGS'] = '--packages com.databricks:spark-xml_2.12:0.13.0 pyspark-shell'\n",
    "\n",
    "spark_session = SparkSession\\\n",
    "    .builder\\\n",
    "    .getOrCreate()"
   ]
  },
  {
   "cell_type": "code",
   "execution_count": 3,
   "id": "851e4f60",
   "metadata": {},
   "outputs": [
    {
     "data": {
      "text/html": [
       "\n",
       "            <div>\n",
       "                <p><b>SparkSession - in-memory</b></p>\n",
       "                \n",
       "        <div>\n",
       "            <p><b>SparkContext</b></p>\n",
       "\n",
       "            <p><a href=\"http://maprdemo.mapr.io:4041\">Spark UI</a></p>\n",
       "\n",
       "            <dl>\n",
       "              <dt>Version</dt>\n",
       "                <dd><code>v3.2.0</code></dd>\n",
       "              <dt>Master</dt>\n",
       "                <dd><code>local[*]</code></dd>\n",
       "              <dt>AppName</dt>\n",
       "                <dd><code>pyspark-shell</code></dd>\n",
       "            </dl>\n",
       "        </div>\n",
       "        \n",
       "            </div>\n",
       "        "
      ],
      "text/plain": [
       "<pyspark.sql.session.SparkSession at 0x7f1d642599e8>"
      ]
     },
     "execution_count": 3,
     "metadata": {},
     "output_type": "execute_result"
    }
   ],
   "source": [
    "spark_session"
   ]
  },
  {
   "cell_type": "code",
   "execution_count": 4,
   "id": "ebc93258",
   "metadata": {},
   "outputs": [],
   "source": [
    "sc = spark_session._sc"
   ]
  },
  {
   "cell_type": "markdown",
   "id": "1d8518cc",
   "metadata": {},
   "source": [
    "# Импорт данных и предобработка данных"
   ]
  },
  {
   "cell_type": "code",
   "execution_count": 5,
   "id": "4f075356",
   "metadata": {},
   "outputs": [
    {
     "name": "stdout",
     "output_type": "stream",
     "text": [
      "name,wikipedia_url\r\n",
      "A# .NET,https://en.wikipedia.org/wiki/A_Sharp_(.NET)\r\n",
      "A# (Axiom),https://en.wikipedia.org/wiki/A_Sharp_(Axiom)\r\n",
      "A-0 System,https://en.wikipedia.org/wiki/A-0_System\r\n",
      "A+,https://en.wikipedia.org/wiki/A%2B_(programming_language)\r\n",
      "A++,https://en.wikipedia.org/wiki/A%2B%2B\r\n",
      "ABAP,https://en.wikipedia.org/wiki/ABAP\r\n",
      "ABC,https://en.wikipedia.org/wiki/ABC_(programming_language)\r\n",
      "ABC ALGOL,https://en.wikipedia.org/wiki/ABC_ALGOL\r\n",
      "ABSET,https://en.wikipedia.org/wiki/ABSET\r\n"
     ]
    }
   ],
   "source": [
    "!head /mnt/data/programming-languages.csv"
   ]
  },
  {
   "cell_type": "markdown",
   "id": "0fb6adf4",
   "metadata": {},
   "source": [
    "## Обявляем схему на основании .csv"
   ]
  },
  {
   "cell_type": "code",
   "execution_count": 6,
   "id": "f0617bde",
   "metadata": {},
   "outputs": [],
   "source": [
    "prog_lang_schema = StructType([\n",
    "    StructField(\"name\", StringType(), False),\n",
    "    StructField(\"wikipedia_url\", StringType(), False),\n",
    "])"
   ]
  },
  {
   "cell_type": "code",
   "execution_count": 7,
   "id": "caf1f67b",
   "metadata": {},
   "outputs": [],
   "source": [
    "df_prog_langs = spark_session.read.csv(\"/mnt/data/programming-languages.csv\", schema=prog_lang_schema)"
   ]
  },
  {
   "cell_type": "code",
   "execution_count": 8,
   "id": "57dc4d10",
   "metadata": {},
   "outputs": [
    {
     "data": {
      "text/plain": [
       "Row(name='name', wikipedia_url='wikipedia_url')"
      ]
     },
     "execution_count": 8,
     "metadata": {},
     "output_type": "execute_result"
    }
   ],
   "source": [
    "df_prog_langs.head()"
   ]
  },
  {
   "cell_type": "markdown",
   "id": "d9e5cbd8",
   "metadata": {},
   "source": [
    "## Формируем список языков программирвания"
   ]
  },
  {
   "cell_type": "code",
   "execution_count": 9,
   "id": "3317a680",
   "metadata": {},
   "outputs": [],
   "source": [
    "prog_langs_list = [str(row[0]) for row in df_prog_langs.select('name').collect()]"
   ]
  },
  {
   "cell_type": "code",
   "execution_count": 10,
   "id": "a2cc8ddb",
   "metadata": {},
   "outputs": [
    {
     "data": {
      "text/plain": [
       "['name',\n",
       " 'A# .NET',\n",
       " 'A# (Axiom)',\n",
       " 'A-0 System',\n",
       " 'A+',\n",
       " 'A++',\n",
       " 'ABAP',\n",
       " 'ABC',\n",
       " 'ABC ALGOL',\n",
       " 'ABSET']"
      ]
     },
     "execution_count": 10,
     "metadata": {},
     "output_type": "execute_result"
    }
   ],
   "source": [
    "prog_langs_list[:10]"
   ]
  },
  {
   "cell_type": "markdown",
   "id": "b9311ec1",
   "metadata": {},
   "source": [
    "## Проверяем данные в XML файле"
   ]
  },
  {
   "cell_type": "code",
   "execution_count": 11,
   "id": "3d7a6d24",
   "metadata": {},
   "outputs": [
    {
     "name": "stdout",
     "output_type": "stream",
     "text": [
      "���<?xml version=\"1.0\" encoding=\"utf-8\"?>\r\n",
      "<posts>\r\n",
      "  <row Id=\"4\" PostTypeId=\"1\" AcceptedAnswerId=\"7\" CreationDate=\"2008-07-31T21:42:52.667\" Score=\"630\" ViewCount=\"42817\" Body=\"&lt;p&gt;I want to use a track-bar to change a form's opacity.&lt;/p&gt;&#xA;&#xA;&lt;p&gt;This is my code:&lt;/p&gt;&#xA;&#xA;&lt;pre&gt;&lt;code&gt;decimal trans = trackBar1.Value / 5000;&#xA;this.Opacity = trans;&#xA;&lt;/code&gt;&lt;/pre&gt;&#xA;&#xA;&lt;p&gt;When I build the application, it gives the following error:&lt;/p&gt;&#xA;&#xA;&lt;blockquote&gt;&#xA;  &lt;p&gt;Cannot implicitly convert type &lt;code&gt;'decimal'&lt;/code&gt; to &lt;code&gt;'double'&lt;/code&gt;&lt;/p&gt;&#xA;&lt;/blockquote&gt;&#xA;&#xA;&lt;p&gt;I tried using &lt;code&gt;trans&lt;/code&gt; and &lt;code&gt;double&lt;/code&gt; but then the control doesn't work. This code worked fine in a past VB.NET project.&lt;/p&gt;&#xA;\" OwnerUserId=\"8\" LastEditorUserId=\"3641067\" LastEditorDisplayName=\"Rich B\" LastEditDate=\"2019-07-19T01:39:54.173\" LastActivityDate=\"2019-07-19T01:39:54.173\" Title=\"Convert Decimal to Double?\" Tags=\"&lt;c#&gt;&lt;floating-point&gt;&lt;type-conversion&gt;&lt;double&gt;&lt;decimal&gt;\" AnswerCount=\"13\" CommentCount=\"2\" FavoriteCount=\"48\" CommunityOwnedDate=\"2012-10-31T16:42:47.213\" />\r\n"
     ]
    }
   ],
   "source": [
    "!head -n 3 /mnt/data/posts_sample.xml"
   ]
  },
  {
   "cell_type": "code",
   "execution_count": 12,
   "id": "30ae8a88",
   "metadata": {},
   "outputs": [],
   "source": [
    "df_posts_sample = spark_session.read.format(\"xml\").options(rowTag=\"row\").load('/mnt/data/posts_sample.xml')"
   ]
  },
  {
   "cell_type": "code",
   "execution_count": 13,
   "id": "11bb1a5c",
   "metadata": {},
   "outputs": [
    {
     "data": {
      "text/plain": [
       "Row(_AcceptedAnswerId=7, _AnswerCount=13, _Body=\"<p>I want to use a track-bar to change a form's opacity.</p>\\n\\n<p>This is my code:</p>\\n\\n<pre><code>decimal trans = trackBar1.Value / 5000;\\nthis.Opacity = trans;\\n</code></pre>\\n\\n<p>When I build the application, it gives the following error:</p>\\n\\n<blockquote>\\n  <p>Cannot implicitly convert type <code>'decimal'</code> to <code>'double'</code></p>\\n</blockquote>\\n\\n<p>I tried using <code>trans</code> and <code>double</code> but then the control doesn't work. This code worked fine in a past VB.NET project.</p>\\n\", _ClosedDate=None, _CommentCount=2, _CommunityOwnedDate=datetime.datetime(2012, 10, 31, 16, 42, 47, 213000), _CreationDate=datetime.datetime(2008, 7, 31, 21, 42, 52, 667000), _FavoriteCount=48, _Id=4, _LastActivityDate=datetime.datetime(2019, 7, 19, 1, 39, 54, 173000), _LastEditDate=datetime.datetime(2019, 7, 19, 1, 39, 54, 173000), _LastEditorDisplayName='Rich B', _LastEditorUserId=3641067, _OwnerDisplayName=None, _OwnerUserId=8, _ParentId=None, _PostTypeId=1, _Score=630, _Tags='<c#><floating-point><type-conversion><double><decimal>', _Title='Convert Decimal to Double?', _ViewCount=42817)"
      ]
     },
     "execution_count": 13,
     "metadata": {},
     "output_type": "execute_result"
    }
   ],
   "source": [
    "df_posts_sample.head()"
   ]
  },
  {
   "cell_type": "markdown",
   "id": "06d7516e",
   "metadata": {},
   "source": [
    "# Сортируем языки программирования по популярности\n",
    "\n",
    "Предположим что популярность основана на количествен упоминаний языка"
   ]
  },
  {
   "cell_type": "code",
   "execution_count": 14,
   "id": "5aa2a662",
   "metadata": {},
   "outputs": [],
   "source": [
    "def define_language(row):\n",
    "    language_tag = None\n",
    "    for lang in prog_langs_list:\n",
    "        if '<' + lang.lower() + '>' in row._Tags.lower():\n",
    "            language_tag = lang\n",
    "            break\n",
    "    if language_tag is None:\n",
    "        return None\n",
    "    return (row._Id, language_tag)\n"
   ]
  },
  {
   "cell_type": "code",
   "execution_count": 15,
   "id": "7be1b586",
   "metadata": {},
   "outputs": [],
   "source": [
    "def check_date_range(row):\n",
    "    left_border = datetime(year=2010, month=1, day=1)\n",
    "    right_border = datetime(year=2020, month=1, day=1)\n",
    "    created_date = row._CreationDate\n",
    "    return created_date > left_border and created_date < right_border"
   ]
  },
  {
   "cell_type": "markdown",
   "id": "dac6d383",
   "metadata": {},
   "source": [
    "```python\n",
    "top_languages = df_posts_sample.rdd\\  # Convert our DataFrame to RDD\n",
    "    .filter(lambda row: row._Tags is not None and check_date_range(row))\\  # It's pointless to use posts without tags, also let's check here our date boundaries\n",
    "    .map(define_language)\\  # Map our rows to (post_id, programming language)\n",
    "    .filter(lambda row: row is not None)\\  # In the previous step we might get \"None\" rows (due to not the all posts tagged with any programming language)\n",
    "    .keyBy(lambda row: row[1])\\  # Let the programming language be the key\n",
    "    .aggregateByKey( \n",
    "        0,\n",
    "        lambda acc, value: acc + 1,\n",
    "        lambda acc1, acc2: acc1 + acc2,\n",
    "    )\\  # Calculates a number of posts for each language\n",
    "    .sortBy(lambda row: row[1], ascending=False)\\  # Sort rows by number of posts \n",
    "    .toDF()  # Backward convertation to DataFrame\n",
    "```"
   ]
  },
  {
   "cell_type": "code",
   "execution_count": 16,
   "id": "2c07fbfb",
   "metadata": {},
   "outputs": [],
   "source": [
    "top_languages = df_posts_sample.rdd\\\n",
    "    .filter(lambda row: row._Tags is not None and check_date_range(row))\\\n",
    "    .map(define_language)\\\n",
    "    .filter(lambda row: row is not None)\\\n",
    "    .keyBy(lambda row: row[1])\\\n",
    "    .aggregateByKey(\n",
    "        0,\n",
    "        lambda acc, value: acc + 1,\n",
    "        lambda acc1, acc2: acc1 + acc2,\n",
    "    )\\\n",
    "    .sortBy(lambda row: row[1], ascending=False)\\\n",
    "    .toDF()"
   ]
  },
  {
   "cell_type": "markdown",
   "id": "dd010538",
   "metadata": {},
   "source": [
    "## Подготавливаем и сохраняем DataFrame как .parquet"
   ]
  },
  {
   "cell_type": "code",
   "execution_count": 17,
   "id": "4520f2ab",
   "metadata": {},
   "outputs": [],
   "source": [
    "top_languages = top_languages.select(col('_1').alias('ProgrammingLanguage'), col('_2').alias('NumberOfPosts'))"
   ]
  },
  {
   "cell_type": "code",
   "execution_count": 18,
   "id": "9827c544",
   "metadata": {},
   "outputs": [
    {
     "name": "stdout",
     "output_type": "stream",
     "text": [
      "+-------------------+-------------+\n",
      "|ProgrammingLanguage|NumberOfPosts|\n",
      "+-------------------+-------------+\n",
      "|         JavaScript|         1799|\n",
      "|               Java|         1518|\n",
      "|                PHP|         1155|\n",
      "|             Python|         1136|\n",
      "|                  R|          313|\n",
      "|                  C|          291|\n",
      "|        Objective-C|          262|\n",
      "|               Ruby|          178|\n",
      "|               Bash|          103|\n",
      "|              Scala|           92|\n",
      "|             MATLAB|           88|\n",
      "|         PowerShell|           68|\n",
      "|               Perl|           51|\n",
      "|             Delphi|           49|\n",
      "|         TypeScript|           49|\n",
      "|                 Go|           45|\n",
      "|                AWK|           34|\n",
      "|               Curl|           31|\n",
      "|            Haskell|           31|\n",
      "|                 F#|           22|\n",
      "+-------------------+-------------+\n",
      "only showing top 20 rows\n",
      "\n"
     ]
    }
   ],
   "source": [
    "top_languages.show()"
   ]
  },
  {
   "cell_type": "code",
   "execution_count": 19,
   "id": "90390e23",
   "metadata": {},
   "outputs": [],
   "source": [
    "top_languages.write.parquet(\"top_languages.parquet\")"
   ]
  },
  {
   "cell_type": "markdown",
   "id": "0751b86f",
   "metadata": {},
   "source": [
    "## Выводим 10 самых популярных языков отдельно и упаковываем в .parquet"
   ]
  },
  {
   "cell_type": "code",
   "execution_count": 20,
   "id": "6c03bfa6",
   "metadata": {},
   "outputs": [],
   "source": [
    "parquetFile = spark_session.read.parquet(\"top_languages.parquet\")"
   ]
  },
  {
   "cell_type": "code",
   "execution_count": 21,
   "id": "b717194c",
   "metadata": {},
   "outputs": [
    {
     "name": "stdout",
     "output_type": "stream",
     "text": [
      "+-------------------+\n",
      "|ProgrammingLanguage|\n",
      "+-------------------+\n",
      "|         JavaScript|\n",
      "|               Java|\n",
      "|                PHP|\n",
      "|             Python|\n",
      "|                  R|\n",
      "|                  C|\n",
      "|        Objective-C|\n",
      "|               Ruby|\n",
      "|               Bash|\n",
      "|              Scala|\n",
      "+-------------------+\n",
      "\n"
     ]
    }
   ],
   "source": [
    "parquetFile.createOrReplaceTempView(\"parquetFile\")\n",
    "top_10 = spark_session.sql(\"SELECT ProgrammingLanguage FROM parquetFile ORDER BY NumberOfPosts DESC LIMIT 10\")\n",
    "top_10.show()"
   ]
  },
  {
   "cell_type": "code",
   "execution_count": 22,
   "id": "73fb3d5b",
   "metadata": {},
   "outputs": [],
   "source": [
    "top_10.write.parquet(\"top_10_langueages.parquet\")"
   ]
  },
  {
   "cell_type": "code",
   "execution_count": null,
   "id": "2ceb43d0",
   "metadata": {},
   "outputs": [],
   "source": []
  }
 ],
 "metadata": {
  "kernelspec": {
   "display_name": "Python 3",
   "language": "python",
   "name": "python3"
  },
  "language_info": {
   "codemirror_mode": {
    "name": "ipython",
    "version": 3
   },
   "file_extension": ".py",
   "mimetype": "text/x-python",
   "name": "python",
   "nbconvert_exporter": "python",
   "pygments_lexer": "ipython3",
   "version": "3.6.9"
  }
 },
 "nbformat": 4,
 "nbformat_minor": 5
}
